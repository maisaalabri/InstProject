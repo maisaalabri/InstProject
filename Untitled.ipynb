{
  "nbformat": 4,
  "nbformat_minor": 0,
  "metadata": {
    "colab": {
      "provenance": [],
      "toc_visible": true,
      "authorship_tag": "ABX9TyMbNVlGvcqb8uplQcCz8gWA",
      "include_colab_link": true
    },
    "kernelspec": {
      "name": "python3",
      "display_name": "Python 3"
    },
    "language_info": {
      "name": "python"
    }
  },
  "cells": [
    {
      "cell_type": "markdown",
      "metadata": {
        "id": "view-in-github",
        "colab_type": "text"
      },
      "source": [
        "<a href=\"https://colab.research.google.com/github/maisaalabri/InstProject/blob/main/Untitled.ipynb\" target=\"_parent\"><img src=\"https://colab.research.google.com/assets/colab-badge.svg\" alt=\"Open In Colab\"/></a>"
      ]
    },
    {
      "cell_type": "code",
      "source": [
        " el=[]\n",
        "print(el)\n",
        "print(type(el)\n",
        ")"
      ],
      "metadata": {
        "colab": {
          "base_uri": "https://localhost:8080/"
        },
        "id": "DVMhJsbaMuAr",
        "outputId": "f6f16d71-5a96-4169-a613-85e1cbc7d9a6"
      },
      "execution_count": null,
      "outputs": [
        {
          "output_type": "stream",
          "name": "stdout",
          "text": [
            "[]\n",
            "<class 'list'>\n"
          ]
        }
      ]
    },
    {
      "cell_type": "code",
      "source": [],
      "metadata": {
        "id": "GUzZ6-BVpZMI"
      },
      "execution_count": null,
      "outputs": []
    },
    {
      "cell_type": "code",
      "source": [
        "for i in range(2,11,-2):\n",
        "    print(i)\n"
      ],
      "metadata": {
        "id": "UlOJ4lSl_txu"
      },
      "execution_count": null,
      "outputs": []
    },
    {
      "cell_type": "code",
      "source": [
        "def add(n1,n2):\n",
        "    s=n1+n2+2\n",
        "    return s\n"
      ],
      "metadata": {
        "id": "uqT8FQD-AyHd"
      },
      "execution_count": null,
      "outputs": []
    },
    {
      "cell_type": "code",
      "source": [
        "add(10,10)\n"
      ],
      "metadata": {
        "colab": {
          "base_uri": "https://localhost:8080/"
        },
        "id": "PM1j6ESeBGp0",
        "outputId": "d480f52a-9e5c-40e0-91ac-1bf869fbbec5"
      },
      "execution_count": null,
      "outputs": [
        {
          "output_type": "execute_result",
          "data": {
            "text/plain": [
              "22"
            ]
          },
          "metadata": {},
          "execution_count": 10
        }
      ]
    },
    {
      "cell_type": "code",
      "source": [
        " l1 =[10,4,7,8]\n",
        " print(l1)\n",
        " "
      ],
      "metadata": {
        "colab": {
          "base_uri": "https://localhost:8080/"
        },
        "id": "zbFyi_42M3Ao",
        "outputId": "1961abb5-04d2-4c6d-f964-d8be1f176e35"
      },
      "execution_count": null,
      "outputs": [
        {
          "output_type": "stream",
          "name": "stdout",
          "text": [
            "[10, 4, 7, 8]\n"
          ]
        }
      ]
    },
    {
      "cell_type": "code",
      "source": [
        "lam = lambda n1,n2:n1*n2"
      ],
      "metadata": {
        "id": "9bnxCR82BmG1"
      },
      "execution_count": null,
      "outputs": []
    },
    {
      "cell_type": "code",
      "source": [
        "lam(20,2)\n"
      ],
      "metadata": {
        "colab": {
          "base_uri": "https://localhost:8080/"
        },
        "id": "RTeuDkD7Bvkq",
        "outputId": "4a01bf5b-45a0-4e8a-e8b4-95a8ddce63cc"
      },
      "execution_count": null,
      "outputs": [
        {
          "output_type": "execute_result",
          "data": {
            "text/plain": [
              "40"
            ]
          },
          "metadata": {},
          "execution_count": 16
        }
      ]
    },
    {
      "cell_type": "code",
      "source": [],
      "metadata": {
        "id": "JaU6LAYOCvzq"
      },
      "execution_count": null,
      "outputs": []
    },
    {
      "cell_type": "code",
      "source": [
        "l1 [::2]\n"
      ],
      "metadata": {
        "colab": {
          "base_uri": "https://localhost:8080/"
        },
        "id": "YTZLaL4lOOdn",
        "outputId": "24e250d8-257f-4618-9d69-ad8c3816dc86"
      },
      "execution_count": null,
      "outputs": [
        {
          "output_type": "execute_result",
          "data": {
            "text/plain": [
              "[10, 7]"
            ]
          },
          "metadata": {},
          "execution_count": 43
        }
      ]
    },
    {
      "cell_type": "code",
      "source": [],
      "metadata": {
        "id": "B4wODhHbO-vX"
      },
      "execution_count": null,
      "outputs": []
    },
    {
      "cell_type": "code",
      "source": [
        "tu = ()\n",
        "print(tu)\n",
        "print(type(tu))\n"
      ],
      "metadata": {
        "colab": {
          "base_uri": "https://localhost:8080/"
        },
        "id": "RKD_VtacmeZh",
        "outputId": "8aaf5c4a-c7a0-44e3-fd3e-a6e4155f2d61"
      },
      "execution_count": null,
      "outputs": [
        {
          "output_type": "stream",
          "name": "stdout",
          "text": [
            "()\n",
            "<class 'tuple'>\n"
          ]
        }
      ]
    },
    {
      "cell_type": "code",
      "source": [
        "tu2 = (10,4,7.8,20,9)\n",
        "print(tu2)\n",
        "print(type(tu2))\n"
      ],
      "metadata": {
        "colab": {
          "base_uri": "https://localhost:8080/"
        },
        "id": "LQOFu1czmebZ",
        "outputId": "fbc2f95f-a637-4379-ac35-005b766c2ba0"
      },
      "execution_count": null,
      "outputs": [
        {
          "output_type": "stream",
          "name": "stdout",
          "text": [
            "(10, 4, 7.8, 20, 9)\n",
            "<class 'tuple'>\n"
          ]
        }
      ]
    },
    {
      "cell_type": "code",
      "source": [
        "tu2.index(4)\n",
        "\n"
      ],
      "metadata": {
        "colab": {
          "base_uri": "https://localhost:8080/"
        },
        "id": "w7-Kv0vKmefS",
        "outputId": "8dea9a9f-ec7a-468a-d6b7-1478fedc36e9"
      },
      "execution_count": null,
      "outputs": [
        {
          "output_type": "execute_result",
          "data": {
            "text/plain": [
              "1"
            ]
          },
          "metadata": {},
          "execution_count": 31
        }
      ]
    },
    {
      "cell_type": "code",
      "source": [
        " d ={'A':100 ,20:2.5,'Q':'True',2.5:500 , 'W':[1,2,3]}\n",
        " d"
      ],
      "metadata": {
        "id": "btJtDOR0metc",
        "colab": {
          "base_uri": "https://localhost:8080/"
        },
        "outputId": "87bcf78e-516c-459b-8c41-475856743c11"
      },
      "execution_count": null,
      "outputs": [
        {
          "output_type": "execute_result",
          "data": {
            "text/plain": [
              "{'A': 100, 20: 2.5, 'Q': 'True', 2.5: 500, 'W': [1, 2, 3]}"
            ]
          },
          "metadata": {},
          "execution_count": 1
        }
      ]
    },
    {
      "cell_type": "code",
      "source": [
        "d1 = {1:'A',2:'B',3:'C',4:'D'}\n",
        "d1\n"
      ],
      "metadata": {
        "colab": {
          "base_uri": "https://localhost:8080/"
        },
        "id": "Nlb7TrPUyeBB",
        "outputId": "6601f81b-84c1-4087-ec8e-083b3343311f"
      },
      "execution_count": null,
      "outputs": [
        {
          "output_type": "execute_result",
          "data": {
            "text/plain": [
              "{1: 'A', 2: 'B', 3: 'C', 4: 'D'}"
            ]
          },
          "metadata": {},
          "execution_count": 2
        }
      ]
    },
    {
      "cell_type": "code",
      "source": [
        "l =[12,23,21,232,33]\n",
        "print(l)\n"
      ],
      "metadata": {
        "id": "HYhv0Jy2mevb",
        "colab": {
          "base_uri": "https://localhost:8080/"
        },
        "outputId": "228a80ee-627c-4b25-d8fb-2bba5e610b8a"
      },
      "execution_count": null,
      "outputs": [
        {
          "output_type": "stream",
          "name": "stdout",
          "text": [
            "[12, 23, 21, 232, 33]\n"
          ]
        }
      ]
    },
    {
      "cell_type": "code",
      "source": [
        "l[-2:]"
      ],
      "metadata": {
        "id": "EciIXaYFmey5",
        "colab": {
          "base_uri": "https://localhost:8080/"
        },
        "outputId": "f5f1e831-1bed-4855-c86b-454040677388"
      },
      "execution_count": null,
      "outputs": [
        {
          "output_type": "execute_result",
          "data": {
            "text/plain": [
              "[232, 33]"
            ]
          },
          "metadata": {},
          "execution_count": 31
        }
      ]
    },
    {
      "cell_type": "code",
      "source": [
        "l.sort(reverse=True)\n"
      ],
      "metadata": {
        "id": "O3z3pGz8me0v"
      },
      "execution_count": null,
      "outputs": []
    },
    {
      "cell_type": "code",
      "source": [
        "l\n"
      ],
      "metadata": {
        "id": "VN6hYjEXme4X",
        "colab": {
          "base_uri": "https://localhost:8080/"
        },
        "outputId": "5b2bf741-a935-406c-eff7-bccb13ef8551"
      },
      "execution_count": null,
      "outputs": [
        {
          "output_type": "execute_result",
          "data": {
            "text/plain": [
              "[12, 21, 23, 33, 232]"
            ]
          },
          "metadata": {},
          "execution_count": 33
        }
      ]
    },
    {
      "cell_type": "code",
      "source": [
        "l.sort()\n",
        "l"
      ],
      "metadata": {
        "id": "0WVTToBdme6P",
        "colab": {
          "base_uri": "https://localhost:8080/"
        },
        "outputId": "748c6db3-b687-4a89-8659-3663e4f8d28b"
      },
      "execution_count": null,
      "outputs": [
        {
          "output_type": "execute_result",
          "data": {
            "text/plain": [
              "[12, 21, 23, 33, 232]"
            ]
          },
          "metadata": {},
          "execution_count": 38
        }
      ]
    },
    {
      "cell_type": "code",
      "source": [],
      "metadata": {
        "id": "PPGYd0r9me9i"
      },
      "execution_count": null,
      "outputs": []
    }
  ]
}