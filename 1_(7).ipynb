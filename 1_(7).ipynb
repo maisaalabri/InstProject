{
  "cells": [
    {
      "cell_type": "markdown",
      "metadata": {
        "id": "view-in-github",
        "colab_type": "text"
      },
      "source": [
        "<a href=\"https://colab.research.google.com/github/maisaalabri/InstProject/blob/main/1_(7).ipynb\" target=\"_parent\"><img src=\"https://colab.research.google.com/assets/colab-badge.svg\" alt=\"Open In Colab\"/></a>"
      ]
    },
    {
      "cell_type": "code",
      "execution_count": 1,
      "metadata": {
        "colab": {
          "base_uri": "https://localhost:8080/"
        },
        "id": "t_14u2y-qgZT",
        "outputId": "6fdc86ad-f916-42d1-f6f5-da4a42a078e6"
      },
      "outputs": [
        {
          "output_type": "stream",
          "name": "stdout",
          "text": [
            "\u001b[K     |████████████████████████████████| 9.2 MB 6.3 MB/s \n",
            "\u001b[K     |████████████████████████████████| 182 kB 48.7 MB/s \n",
            "\u001b[K     |████████████████████████████████| 78 kB 7.4 MB/s \n",
            "\u001b[K     |████████████████████████████████| 164 kB 82.8 MB/s \n",
            "\u001b[K     |████████████████████████████████| 4.7 MB 48.6 MB/s \n",
            "\u001b[K     |████████████████████████████████| 237 kB 59.4 MB/s \n",
            "\u001b[K     |████████████████████████████████| 62 kB 1.5 MB/s \n",
            "\u001b[K     |████████████████████████████████| 51 kB 7.8 MB/s \n",
            "\u001b[?25h  Building wheel for validators (setup.py) ... \u001b[?25l\u001b[?25hdone\n"
          ]
        }
      ],
      "source": [
        "!pip install -q streamlit"
      ]
    },
    {
      "cell_type": "code",
      "execution_count": 2,
      "metadata": {
        "colab": {
          "base_uri": "https://localhost:8080/"
        },
        "id": "PhP_esBz8oii",
        "outputId": "7b73ed63-012f-4a01-d9a0-6c708923c7af"
      },
      "outputs": [
        {
          "output_type": "stream",
          "name": "stdout",
          "text": [
            "Looking in indexes: https://pypi.org/simple, https://us-python.pkg.dev/colab-wheels/public/simple/\n",
            "Requirement already satisfied: streamlit in /usr/local/lib/python3.8/dist-packages (1.16.0)\n",
            "Requirement already satisfied: pandas>=0.21.0 in /usr/local/lib/python3.8/dist-packages (from streamlit) (1.3.5)\n",
            "Requirement already satisfied: altair>=3.2.0 in /usr/local/lib/python3.8/dist-packages (from streamlit) (4.2.0)\n",
            "Requirement already satisfied: importlib-metadata>=1.4 in /usr/local/lib/python3.8/dist-packages (from streamlit) (5.1.0)\n",
            "Requirement already satisfied: toml in /usr/local/lib/python3.8/dist-packages (from streamlit) (0.10.2)\n",
            "Requirement already satisfied: cachetools>=4.0 in /usr/local/lib/python3.8/dist-packages (from streamlit) (5.2.0)\n",
            "Requirement already satisfied: semver in /usr/local/lib/python3.8/dist-packages (from streamlit) (2.13.0)\n",
            "Requirement already satisfied: validators>=0.2 in /usr/local/lib/python3.8/dist-packages (from streamlit) (0.20.0)\n",
            "Requirement already satisfied: protobuf<4,>=3.12 in /usr/local/lib/python3.8/dist-packages (from streamlit) (3.19.6)\n",
            "Requirement already satisfied: python-dateutil in /usr/local/lib/python3.8/dist-packages (from streamlit) (2.8.2)\n",
            "Requirement already satisfied: pillow>=6.2.0 in /usr/local/lib/python3.8/dist-packages (from streamlit) (7.1.2)\n",
            "Requirement already satisfied: typing-extensions>=3.10.0.0 in /usr/local/lib/python3.8/dist-packages (from streamlit) (4.4.0)\n",
            "Requirement already satisfied: numpy in /usr/local/lib/python3.8/dist-packages (from streamlit) (1.21.6)\n",
            "Requirement already satisfied: pyarrow>=4.0 in /usr/local/lib/python3.8/dist-packages (from streamlit) (9.0.0)\n",
            "Requirement already satisfied: requests>=2.4 in /usr/local/lib/python3.8/dist-packages (from streamlit) (2.23.0)\n",
            "Requirement already satisfied: tzlocal>=1.1 in /usr/local/lib/python3.8/dist-packages (from streamlit) (1.5.1)\n",
            "Requirement already satisfied: pympler>=0.9 in /usr/local/lib/python3.8/dist-packages (from streamlit) (1.0.1)\n",
            "Requirement already satisfied: blinker>=1.0.0 in /usr/local/lib/python3.8/dist-packages (from streamlit) (1.5)\n",
            "Requirement already satisfied: watchdog in /usr/local/lib/python3.8/dist-packages (from streamlit) (2.2.0)\n",
            "Requirement already satisfied: rich>=10.11.0 in /usr/local/lib/python3.8/dist-packages (from streamlit) (12.6.0)\n",
            "Requirement already satisfied: click>=7.0 in /usr/local/lib/python3.8/dist-packages (from streamlit) (7.1.2)\n",
            "Requirement already satisfied: gitpython!=3.1.19 in /usr/local/lib/python3.8/dist-packages (from streamlit) (3.1.29)\n",
            "Requirement already satisfied: tornado>=5.0 in /usr/local/lib/python3.8/dist-packages (from streamlit) (6.0.4)\n",
            "Requirement already satisfied: pydeck>=0.1.dev5 in /usr/local/lib/python3.8/dist-packages (from streamlit) (0.8.0)\n",
            "Requirement already satisfied: packaging>=14.1 in /usr/local/lib/python3.8/dist-packages (from streamlit) (21.3)\n",
            "Requirement already satisfied: entrypoints in /usr/local/lib/python3.8/dist-packages (from altair>=3.2.0->streamlit) (0.4)\n",
            "Requirement already satisfied: jsonschema>=3.0 in /usr/local/lib/python3.8/dist-packages (from altair>=3.2.0->streamlit) (4.3.3)\n",
            "Requirement already satisfied: jinja2 in /usr/local/lib/python3.8/dist-packages (from altair>=3.2.0->streamlit) (2.11.3)\n",
            "Requirement already satisfied: toolz in /usr/local/lib/python3.8/dist-packages (from altair>=3.2.0->streamlit) (0.12.0)\n",
            "Requirement already satisfied: gitdb<5,>=4.0.1 in /usr/local/lib/python3.8/dist-packages (from gitpython!=3.1.19->streamlit) (4.0.10)\n",
            "Requirement already satisfied: smmap<6,>=3.0.1 in /usr/local/lib/python3.8/dist-packages (from gitdb<5,>=4.0.1->gitpython!=3.1.19->streamlit) (5.0.0)\n",
            "Requirement already satisfied: zipp>=0.5 in /usr/local/lib/python3.8/dist-packages (from importlib-metadata>=1.4->streamlit) (3.11.0)\n",
            "Requirement already satisfied: attrs>=17.4.0 in /usr/local/lib/python3.8/dist-packages (from jsonschema>=3.0->altair>=3.2.0->streamlit) (22.1.0)\n",
            "Requirement already satisfied: importlib-resources>=1.4.0 in /usr/local/lib/python3.8/dist-packages (from jsonschema>=3.0->altair>=3.2.0->streamlit) (5.10.1)\n",
            "Requirement already satisfied: pyrsistent!=0.17.0,!=0.17.1,!=0.17.2,>=0.14.0 in /usr/local/lib/python3.8/dist-packages (from jsonschema>=3.0->altair>=3.2.0->streamlit) (0.19.2)\n",
            "Requirement already satisfied: pyparsing!=3.0.5,>=2.0.2 in /usr/local/lib/python3.8/dist-packages (from packaging>=14.1->streamlit) (3.0.9)\n",
            "Requirement already satisfied: pytz>=2017.3 in /usr/local/lib/python3.8/dist-packages (from pandas>=0.21.0->streamlit) (2022.6)\n",
            "Requirement already satisfied: MarkupSafe>=0.23 in /usr/local/lib/python3.8/dist-packages (from jinja2->altair>=3.2.0->streamlit) (2.0.1)\n",
            "Requirement already satisfied: six>=1.5 in /usr/local/lib/python3.8/dist-packages (from python-dateutil->streamlit) (1.15.0)\n",
            "Requirement already satisfied: idna<3,>=2.5 in /usr/local/lib/python3.8/dist-packages (from requests>=2.4->streamlit) (2.10)\n",
            "Requirement already satisfied: urllib3!=1.25.0,!=1.25.1,<1.26,>=1.21.1 in /usr/local/lib/python3.8/dist-packages (from requests>=2.4->streamlit) (1.24.3)\n",
            "Requirement already satisfied: chardet<4,>=3.0.2 in /usr/local/lib/python3.8/dist-packages (from requests>=2.4->streamlit) (3.0.4)\n",
            "Requirement already satisfied: certifi>=2017.4.17 in /usr/local/lib/python3.8/dist-packages (from requests>=2.4->streamlit) (2022.12.7)\n",
            "Requirement already satisfied: pygments<3.0.0,>=2.6.0 in /usr/local/lib/python3.8/dist-packages (from rich>=10.11.0->streamlit) (2.6.1)\n",
            "Requirement already satisfied: commonmark<0.10.0,>=0.9.0 in /usr/local/lib/python3.8/dist-packages (from rich>=10.11.0->streamlit) (0.9.1)\n",
            "Requirement already satisfied: decorator>=3.4.0 in /usr/local/lib/python3.8/dist-packages (from validators>=0.2->streamlit) (4.4.2)\n"
          ]
        }
      ],
      "source": [
        "!pip install -U streamlit\n"
      ]
    },
    {
      "cell_type": "code",
      "execution_count": 3,
      "metadata": {
        "id": "zYxD_RVzuWOT",
        "colab": {
          "base_uri": "https://localhost:8080/"
        },
        "outputId": "f4dc5e6e-c0a4-41e0-a38f-71913dd352a5"
      },
      "outputs": [
        {
          "output_type": "stream",
          "name": "stdout",
          "text": [
            "Found existing installation: protobuf 3.19.6\n",
            "Uninstalling protobuf-3.19.6:\n",
            "  Would remove:\n",
            "    /usr/local/lib/python3.8/dist-packages/google/protobuf/*\n",
            "    /usr/local/lib/python3.8/dist-packages/protobuf-3.19.6-py3.8-nspkg.pth\n",
            "    /usr/local/lib/python3.8/dist-packages/protobuf-3.19.6.dist-info/*\n",
            "Proceed (y/n)? y\n",
            "  Successfully uninstalled protobuf-3.19.6\n"
          ]
        }
      ],
      "source": [
        "!pip uninstall protobuf"
      ]
    },
    {
      "cell_type": "code",
      "execution_count": 4,
      "metadata": {
        "colab": {
          "base_uri": "https://localhost:8080/"
        },
        "id": "3Uttj9O_2-r5",
        "outputId": "c7403d7b-7ea3-4a6b-8eba-b67ed0ffecc7"
      },
      "outputs": [
        {
          "output_type": "stream",
          "name": "stdout",
          "text": [
            "Looking in indexes: https://pypi.org/simple, https://us-python.pkg.dev/colab-wheels/public/simple/\n",
            "Collecting protobuf==4.21\n",
            "  Downloading protobuf-4.21.0-cp37-abi3-manylinux2014_x86_64.whl (407 kB)\n",
            "\u001b[K     |████████████████████████████████| 407 kB 6.4 MB/s \n",
            "\u001b[33mWARNING: The candidate selected for download or install is a yanked version: 'protobuf' candidate (version 4.21.0 at https://files.pythonhosted.org/packages/9d/82/b3131637daf2a27eab76b0de8e139ecf0f6624832c03531dce8a7d59ddc1/protobuf-4.21.0-cp37-abi3-manylinux2014_x86_64.whl#sha256=9a65e012bc06022e98a57165ea48438b3b9f652eee33db7cbecb883588f9f169 (from https://pypi.org/simple/protobuf/))\n",
            "Reason for being yanked: Required python version not configured correctly (https://github.com/protocolbuffers/protobuf/issues/10076)\u001b[0m\n",
            "\u001b[?25hInstalling collected packages: protobuf\n",
            "\u001b[31mERROR: pip's dependency resolver does not currently take into account all the packages that are installed. This behaviour is the source of the following dependency conflicts.\n",
            "tensorflow 2.9.2 requires protobuf<3.20,>=3.9.2, but you have protobuf 4.21.0 which is incompatible.\n",
            "tensorflow-metadata 1.12.0 requires protobuf<4,>=3.13, but you have protobuf 4.21.0 which is incompatible.\n",
            "tensorboard 2.9.1 requires protobuf<3.20,>=3.9.2, but you have protobuf 4.21.0 which is incompatible.\n",
            "streamlit 1.16.0 requires protobuf<4,>=3.12, but you have protobuf 4.21.0 which is incompatible.\n",
            "google-cloud-translate 3.8.4 requires protobuf!=3.20.0,!=3.20.1,!=4.21.0,!=4.21.1,!=4.21.2,!=4.21.3,!=4.21.4,!=4.21.5,<5.0.0dev,>=3.19.5, but you have protobuf 4.21.0 which is incompatible.\n",
            "google-cloud-language 2.6.1 requires protobuf!=3.20.0,!=3.20.1,!=4.21.0,!=4.21.1,!=4.21.2,!=4.21.3,!=4.21.4,!=4.21.5,<5.0.0dev,>=3.19.5, but you have protobuf 4.21.0 which is incompatible.\n",
            "google-cloud-firestore 2.7.2 requires protobuf!=3.20.0,!=3.20.1,!=4.21.0,!=4.21.1,!=4.21.2,!=4.21.3,!=4.21.4,!=4.21.5,<5.0.0dev,>=3.19.5, but you have protobuf 4.21.0 which is incompatible.\n",
            "google-cloud-datastore 2.9.0 requires protobuf!=3.20.0,!=3.20.1,!=4.21.0,!=4.21.1,!=4.21.2,!=4.21.3,!=4.21.4,!=4.21.5,<5.0.0dev,>=3.19.5, but you have protobuf 4.21.0 which is incompatible.\n",
            "google-cloud-bigquery 3.3.6 requires protobuf!=3.20.0,!=3.20.1,!=4.21.0,!=4.21.1,!=4.21.2,!=4.21.3,!=4.21.4,!=4.21.5,<5.0.0dev,>=3.19.5, but you have protobuf 4.21.0 which is incompatible.\n",
            "google-cloud-bigquery-storage 2.16.2 requires protobuf!=3.20.0,!=3.20.1,!=4.21.0,!=4.21.1,!=4.21.2,!=4.21.3,!=4.21.4,!=4.21.5,<5.0.0dev,>=3.19.5, but you have protobuf 4.21.0 which is incompatible.\u001b[0m\n",
            "Successfully installed protobuf-4.21.0\n"
          ]
        }
      ],
      "source": [
        "!pip install protobuf==4.21"
      ]
    },
    {
      "cell_type": "code",
      "execution_count": 5,
      "metadata": {
        "colab": {
          "base_uri": "https://localhost:8080/"
        },
        "id": "WLJ0VCOI1EiZ",
        "outputId": "ce811fb7-3b55-4833-a440-6d602924ad02"
      },
      "outputs": [
        {
          "output_type": "stream",
          "name": "stdout",
          "text": [
            "Writing HomePage.py\n"
          ]
        }
      ],
      "source": [
        "%%writefile HomePage.py\n",
        "import streamlit as st\n",
        "from streamlit_option_menu import option_menu\n",
        "import pandas as pd\n",
        "import altair as alt\n",
        "import seaborn as sns\n",
        "\n",
        "st.sidebar.markdown(\"# Home Page\")\n",
        "\n",
        "insta = pd.read_csv('uppdatedInstagram.csv')\n",
        "st.title('instagram influencers Application')\n",
        "st.header(\"About the Dataset:...\")\n",
        "st.markdown(\"Instagram is a photo and video sharing social networking service founded in 2010\") \n",
        "st.markdown(\"by Kevin Systrom and Mike Krieger, and later acquired by American company Facebook Inc.\") \n",
        "st.markdown(\"The app allows users to upload media that can be edited with filters and organized by \") \n",
        "st.markdown(\"hashtags and geographical tagging. Posts can be shared publicly or with preapproved followers.\")  \n",
        "st.markdown(\"Users can browse other users' content by tag and location, view trending content, like photos, \") \n",
        "st.markdown(\"and follow other users to add their content to a personal feed.\")\n",
        "st.markdown(\"in addition, in this pages you will find finalization and the findings of a dataset comprises of 200 top influencers profile data of instagram\")\n",
        "    \n",
        "\n",
        "st.header(\"Findings from instagram influencers dataset:...\")\n",
        "nof = st.select_slider(\n",
        "    'Select a number to view:',\n",
        "    options=['1', '2', '3', '4', '5'])\n",
        "st.write('Findings NO:', nof)\n",
        "\n",
        "if (nof == '1'):\n",
        "  st.markdown(\"the candlestick chart below shows The number of likes for each Main topic \")\n",
        "  st.markdown(\"clearly shows that the sports topic has the largest number of likes, it was about more than \")\n",
        "  st.markdown(\"20.000.000,000 likes, which means that sport is one of the people's most important concerns.\") \n",
        "  st.markdown(\"In contrast, the news had the lowest number of likes, it was much less than 5.000.000.000..\")\n",
        "\n",
        "elif (nof == '2'):\n",
        "  st.markdown(\"The simple bar chart below shows the number of followers for each main topic\")\n",
        "  st.markdown(\"was clearly the most for a sports topic, and the number of \")\n",
        "  st.markdown(\"followers was about 2,000,000,000. In contrast, the people & blogs had the fewest followers,\") \n",
        "  st.markdown(\"which shows that most people are interested in sports and don't tend to the people & blogs.\")\n",
        "\n",
        "elif (nof == '3'):\n",
        "  st.markdown(\"The line chart below shows The number of likes of each post, it is clear that comedy has\")\n",
        "  st.markdown(\"the number of posts around 100,000, So comedy has the highest number of posts, \")\n",
        "  st.markdown(\"but the number of likes is it is much less than 20,000,000,000 compared to sports\") \n",
        "  st.markdown(\"a small number of posts are less than 20,000, but the number of likes was more than 20,000,000.\")\n",
        "\n",
        "elif (nof == '4'):\n",
        "  st.markdown(\"The point chart below shows the Engagement rate and the number of followers,\")\n",
        "  st.markdown(\"Obviously, it's a film and animation has a large number of followers about 500,000,000 but the\") \n",
        "  st.markdown(\"Engagement rate was about 0.0, in contrast, the gaming topic has a few followers but the Engagement\") \n",
        "  st.markdown(\"rate had the highest of all, was about 0.3 and this means that he's The most inclined people Engagement\") \n",
        "  st.markdown(\"in gaming topics.\")\n",
        "\n",
        "else:\n",
        "  st.markdown(\"The pie chart below shows the number of posts and the main topic. The comedy topic received more  \")\n",
        "  st.markdown(\"comedy topic had the most number of posts, and in contrast, the news and politics  topics had the\") \n",
        "  st.markdown(\"lowest number of posts\")"
      ]
    },
    {
      "cell_type": "code",
      "execution_count": 6,
      "metadata": {
        "id": "RnzNukcVquRf",
        "colab": {
          "base_uri": "https://localhost:8080/"
        },
        "outputId": "541b3ab8-dcc4-487c-b492-c4e3eb790fe2"
      },
      "outputs": [
        {
          "output_type": "stream",
          "name": "stdout",
          "text": [
            "\u001b[K\u001b[?25hnpx: installed 22 in 4.46s\n",
            "your url is: https://thick-news-stand-34-125-147-205.loca.lt\n",
            "^C\n"
          ]
        }
      ],
      "source": [
        "!streamlit run HomePage.py &>/dev/null&\n",
        "!npx localtunnel --port 8501"
      ]
    },
    {
      "cell_type": "code",
      "execution_count": 7,
      "metadata": {
        "id": "OLU-tJP6ckuc",
        "colab": {
          "base_uri": "https://localhost:8080/",
          "height": 1000
        },
        "outputId": "8a2f2e5d-c71d-474c-c3b5-01cff58c634f"
      },
      "outputs": [
        {
          "output_type": "stream",
          "name": "stdout",
          "text": [
            "Looking in indexes: https://pypi.org/simple, https://us-python.pkg.dev/colab-wheels/public/simple/\n",
            "Collecting streamlit==1.14.0\n",
            "  Downloading streamlit-1.14.0-py2.py3-none-any.whl (9.2 MB)\n",
            "\u001b[K     |████████████████████████████████| 9.2 MB 5.9 MB/s \n",
            "\u001b[?25hRequirement already satisfied: pandas>=0.21.0 in /usr/local/lib/python3.8/dist-packages (from streamlit==1.14.0) (1.3.5)\n",
            "Collecting protobuf<4,>=3.12\n",
            "  Downloading protobuf-3.20.3-cp38-cp38-manylinux_2_5_x86_64.manylinux1_x86_64.whl (1.0 MB)\n",
            "\u001b[K     |████████████████████████████████| 1.0 MB 39.7 MB/s \n",
            "\u001b[?25hRequirement already satisfied: packaging>=14.1 in /usr/local/lib/python3.8/dist-packages (from streamlit==1.14.0) (21.3)\n",
            "Requirement already satisfied: pympler>=0.9 in /usr/local/lib/python3.8/dist-packages (from streamlit==1.14.0) (1.0.1)\n",
            "Requirement already satisfied: altair>=3.2.0 in /usr/local/lib/python3.8/dist-packages (from streamlit==1.14.0) (4.2.0)\n",
            "Requirement already satisfied: rich>=10.11.0 in /usr/local/lib/python3.8/dist-packages (from streamlit==1.14.0) (12.6.0)\n",
            "Requirement already satisfied: requests>=2.4 in /usr/local/lib/python3.8/dist-packages (from streamlit==1.14.0) (2.23.0)\n",
            "Requirement already satisfied: importlib-metadata>=1.4 in /usr/local/lib/python3.8/dist-packages (from streamlit==1.14.0) (5.1.0)\n",
            "Requirement already satisfied: cachetools>=4.0 in /usr/local/lib/python3.8/dist-packages (from streamlit==1.14.0) (5.2.0)\n",
            "Requirement already satisfied: click>=7.0 in /usr/local/lib/python3.8/dist-packages (from streamlit==1.14.0) (7.1.2)\n",
            "Requirement already satisfied: semver in /usr/local/lib/python3.8/dist-packages (from streamlit==1.14.0) (2.13.0)\n",
            "Requirement already satisfied: typing-extensions>=3.10.0.0 in /usr/local/lib/python3.8/dist-packages (from streamlit==1.14.0) (4.4.0)\n",
            "Requirement already satisfied: tzlocal>=1.1 in /usr/local/lib/python3.8/dist-packages (from streamlit==1.14.0) (1.5.1)\n",
            "Requirement already satisfied: numpy in /usr/local/lib/python3.8/dist-packages (from streamlit==1.14.0) (1.21.6)\n",
            "Requirement already satisfied: gitpython!=3.1.19 in /usr/local/lib/python3.8/dist-packages (from streamlit==1.14.0) (3.1.29)\n",
            "Requirement already satisfied: pydeck>=0.1.dev5 in /usr/local/lib/python3.8/dist-packages (from streamlit==1.14.0) (0.8.0)\n",
            "Requirement already satisfied: python-dateutil in /usr/local/lib/python3.8/dist-packages (from streamlit==1.14.0) (2.8.2)\n",
            "Requirement already satisfied: watchdog in /usr/local/lib/python3.8/dist-packages (from streamlit==1.14.0) (2.2.0)\n",
            "Requirement already satisfied: blinker>=1.0.0 in /usr/local/lib/python3.8/dist-packages (from streamlit==1.14.0) (1.5)\n",
            "Requirement already satisfied: pyarrow>=4.0 in /usr/local/lib/python3.8/dist-packages (from streamlit==1.14.0) (9.0.0)\n",
            "Requirement already satisfied: tornado>=5.0 in /usr/local/lib/python3.8/dist-packages (from streamlit==1.14.0) (6.0.4)\n",
            "Requirement already satisfied: toml in /usr/local/lib/python3.8/dist-packages (from streamlit==1.14.0) (0.10.2)\n",
            "Requirement already satisfied: validators>=0.2 in /usr/local/lib/python3.8/dist-packages (from streamlit==1.14.0) (0.20.0)\n",
            "Requirement already satisfied: pillow>=6.2.0 in /usr/local/lib/python3.8/dist-packages (from streamlit==1.14.0) (7.1.2)\n",
            "Requirement already satisfied: toolz in /usr/local/lib/python3.8/dist-packages (from altair>=3.2.0->streamlit==1.14.0) (0.12.0)\n",
            "Requirement already satisfied: jinja2 in /usr/local/lib/python3.8/dist-packages (from altair>=3.2.0->streamlit==1.14.0) (2.11.3)\n",
            "Requirement already satisfied: jsonschema>=3.0 in /usr/local/lib/python3.8/dist-packages (from altair>=3.2.0->streamlit==1.14.0) (4.3.3)\n",
            "Requirement already satisfied: entrypoints in /usr/local/lib/python3.8/dist-packages (from altair>=3.2.0->streamlit==1.14.0) (0.4)\n",
            "Requirement already satisfied: gitdb<5,>=4.0.1 in /usr/local/lib/python3.8/dist-packages (from gitpython!=3.1.19->streamlit==1.14.0) (4.0.10)\n",
            "Requirement already satisfied: smmap<6,>=3.0.1 in /usr/local/lib/python3.8/dist-packages (from gitdb<5,>=4.0.1->gitpython!=3.1.19->streamlit==1.14.0) (5.0.0)\n",
            "Requirement already satisfied: zipp>=0.5 in /usr/local/lib/python3.8/dist-packages (from importlib-metadata>=1.4->streamlit==1.14.0) (3.11.0)\n",
            "Requirement already satisfied: attrs>=17.4.0 in /usr/local/lib/python3.8/dist-packages (from jsonschema>=3.0->altair>=3.2.0->streamlit==1.14.0) (22.1.0)\n",
            "Requirement already satisfied: pyrsistent!=0.17.0,!=0.17.1,!=0.17.2,>=0.14.0 in /usr/local/lib/python3.8/dist-packages (from jsonschema>=3.0->altair>=3.2.0->streamlit==1.14.0) (0.19.2)\n",
            "Requirement already satisfied: importlib-resources>=1.4.0 in /usr/local/lib/python3.8/dist-packages (from jsonschema>=3.0->altair>=3.2.0->streamlit==1.14.0) (5.10.1)\n",
            "Requirement already satisfied: pyparsing!=3.0.5,>=2.0.2 in /usr/local/lib/python3.8/dist-packages (from packaging>=14.1->streamlit==1.14.0) (3.0.9)\n",
            "Requirement already satisfied: pytz>=2017.3 in /usr/local/lib/python3.8/dist-packages (from pandas>=0.21.0->streamlit==1.14.0) (2022.6)\n",
            "Requirement already satisfied: MarkupSafe>=0.23 in /usr/local/lib/python3.8/dist-packages (from jinja2->altair>=3.2.0->streamlit==1.14.0) (2.0.1)\n",
            "Requirement already satisfied: six>=1.5 in /usr/local/lib/python3.8/dist-packages (from python-dateutil->streamlit==1.14.0) (1.15.0)\n",
            "Requirement already satisfied: urllib3!=1.25.0,!=1.25.1,<1.26,>=1.21.1 in /usr/local/lib/python3.8/dist-packages (from requests>=2.4->streamlit==1.14.0) (1.24.3)\n",
            "Requirement already satisfied: chardet<4,>=3.0.2 in /usr/local/lib/python3.8/dist-packages (from requests>=2.4->streamlit==1.14.0) (3.0.4)\n",
            "Requirement already satisfied: certifi>=2017.4.17 in /usr/local/lib/python3.8/dist-packages (from requests>=2.4->streamlit==1.14.0) (2022.12.7)\n",
            "Requirement already satisfied: idna<3,>=2.5 in /usr/local/lib/python3.8/dist-packages (from requests>=2.4->streamlit==1.14.0) (2.10)\n",
            "Requirement already satisfied: pygments<3.0.0,>=2.6.0 in /usr/local/lib/python3.8/dist-packages (from rich>=10.11.0->streamlit==1.14.0) (2.6.1)\n",
            "Requirement already satisfied: commonmark<0.10.0,>=0.9.0 in /usr/local/lib/python3.8/dist-packages (from rich>=10.11.0->streamlit==1.14.0) (0.9.1)\n",
            "Requirement already satisfied: decorator>=3.4.0 in /usr/local/lib/python3.8/dist-packages (from validators>=0.2->streamlit==1.14.0) (4.4.2)\n",
            "Installing collected packages: protobuf, streamlit\n",
            "  Attempting uninstall: protobuf\n",
            "    Found existing installation: protobuf 4.21.0\n",
            "    Uninstalling protobuf-4.21.0:\n",
            "      Successfully uninstalled protobuf-4.21.0\n",
            "  Attempting uninstall: streamlit\n",
            "    Found existing installation: streamlit 1.16.0\n",
            "    Uninstalling streamlit-1.16.0:\n",
            "      Successfully uninstalled streamlit-1.16.0\n",
            "\u001b[31mERROR: pip's dependency resolver does not currently take into account all the packages that are installed. This behaviour is the source of the following dependency conflicts.\n",
            "tensorflow 2.9.2 requires protobuf<3.20,>=3.9.2, but you have protobuf 3.20.3 which is incompatible.\n",
            "tensorboard 2.9.1 requires protobuf<3.20,>=3.9.2, but you have protobuf 3.20.3 which is incompatible.\u001b[0m\n",
            "Successfully installed protobuf-3.20.3 streamlit-1.14.0\n"
          ]
        },
        {
          "output_type": "display_data",
          "data": {
            "application/vnd.colab-display-data+json": {
              "pip_warning": {
                "packages": [
                  "google"
                ]
              }
            }
          },
          "metadata": {}
        }
      ],
      "source": [
        "!pip install streamlit==1.14.0"
      ]
    },
    {
      "cell_type": "code",
      "execution_count": 8,
      "metadata": {
        "id": "6LPWmBQBrB2r",
        "colab": {
          "base_uri": "https://localhost:8080/"
        },
        "outputId": "c17f8564-7a13-47e6-eeb8-a3dbae12f3ec"
      },
      "outputs": [
        {
          "output_type": "stream",
          "name": "stdout",
          "text": [
            "Writing pages/page1.py\n"
          ]
        }
      ],
      "source": [
        "%%writefile pages/page1.py\n",
        "import streamlit as st\n",
        "from streamlit_option_menu import option_menu\n",
        "import matplotlib.pyplot as plt\n",
        "import pandas as pd\n",
        "import altair as alt\n",
        "import seaborn as sns\n",
        "\n",
        "st.sidebar.markdown(\"# Page1\")\n",
        "\n",
        "insta = pd.read_csv('uppdatedInstagram.csv')\n",
        "st.title('instagram influencers Application')\n",
        "st.header(\"instagram influencers Application Charts\")\n",
        "\n",
        "#with st.sidebar:\n",
        "  #  selected = option_menu(\"Instagram Web App\", [\"HomePage\",\"page1\", 'page2'], \n",
        " #       icons=['house'], menu_icon=\"cast\", default_index=1)\n",
        "#    selected\n",
        "\n",
        "plot_type=st.radio(\"select from the relations\",['Candlestick chart','pie chart','Simple Bar Chart','line Chart','point Chart'])\n",
        "\n",
        "if plot_type == 'Candlestick chart':\n",
        "#  t1 = st.header(\"The relation between Main topic and Likes\")\n",
        "#  p1 = insta.groupby('Main topic')['Likes'].mean().plot(kind='pie',autopct=\"%1.2f%%\") \n",
        "  t1 = st.text(\"The relation between Main topic and Likes\")\n",
        "  p1 = alt.Chart(insta).mark_rule().encode(\n",
        "  x = 'Main topic',\n",
        "  y = 'Likes',\n",
        "  color = 'Main topic').interactive()\n",
        "\n",
        "elif plot_type == 'pie chart':\n",
        "  t1 = st.header(\"The relation between Main topic and Posts\")\n",
        "  p1 = alt.Chart(insta).mark_arc().encode(\n",
        "    theta=alt.Theta(field=\"Posts\", type=\"quantitative\"),\n",
        "    color=alt.Color(field=\"Main topic\", type=\"nominal\"))\n",
        "\n",
        "\n",
        "elif plot_type == 'Simple Bar Chart':\n",
        "  t1 = st.text(\"The relation between Main topic and Followers\")\n",
        "  p1 = alt.Chart(insta).mark_bar().encode(\n",
        "  y = 'Main topic',\n",
        "  x = 'Followers',\n",
        "  color = 'Main topic')\n",
        "\n",
        "elif plot_type == 'line Chart':\n",
        "  t1 = st.text(\"The relation between Posts and Likes\")\n",
        "  p1 = alt.Chart(insta).mark_line().encode(\n",
        "  y = 'Posts',\n",
        "  x = 'Likes',\n",
        "  color = 'Main topic').interactive()\n",
        "\n",
        "else:\n",
        "  t1 = st.text(\"The relation between Engagement Rate and Followers\")\n",
        "  p1 = alt.Chart(insta).mark_point().encode(\n",
        "  x = 'Engagement Rate',\n",
        "  y = 'Followers',\n",
        "  color = 'Main topic').interactive()\n",
        "\n",
        "st.echo(t1)\n",
        "st.altair_chart(p1) \n",
        "\n",
        "st.markdown(\"------------------------------------------------------------\")\n",
        "\n",
        "option = st.selectbox(\n",
        "    'Choose one of the options to be compared with Likes',\n",
        "    ('Followers', 'Engagement Rate'))\n",
        "\n",
        "st.write('You selected:', option)\n",
        "\n",
        "if(option == \"Followers\"):\n",
        "  A1 = alt.Chart(insta).mark_bar().encode(\n",
        "  y = 'Likes',\n",
        "  x = 'Followers',\n",
        "  color = 'Main topic')\n",
        "else:\n",
        "  A1 = alt.Chart(insta).mark_bar().encode(\n",
        "  y = 'Likes',\n",
        "  x = 'Engagement Rate',\n",
        "  color = 'Main topic')\n",
        "\n",
        "st.altair_chart(A1)\n",
        "\n"
      ]
    },
    {
      "cell_type": "code",
      "execution_count": 9,
      "metadata": {
        "id": "mRvGBpZYI_uf",
        "colab": {
          "base_uri": "https://localhost:8080/"
        },
        "outputId": "1c662992-ac67-41a1-d4ed-cd20e23f375b"
      },
      "outputs": [
        {
          "output_type": "stream",
          "name": "stdout",
          "text": [
            "Writing pages/page2.py\n"
          ]
        }
      ],
      "source": [
        "%%writefile pages/page2.py\n",
        "import streamlit as st\n",
        "from streamlit_option_menu import option_menu\n",
        "import matplotlib.pyplot as plt\n",
        "import pandas as pd\n",
        "import altair as alt\n",
        "import seaborn as sns\n",
        "\n",
        "st.sidebar.markdown(\"# Page2\")\n",
        "\n",
        "insta = pd.read_csv('uppdatedInstagram.csv')\n",
        "st.title('instagram influencers Application')\n",
        "st.header(\"instagram influencers Application Charts\")\n",
        "\n",
        "st.markdown(\"------------------------------------------------------------\")\n",
        "st.markdown(\"---The Relation between Main topic and Engagement Rate with Likes---\")\n",
        "color = st.color_picker('Pick A Color', '#00f900')\n",
        "st.write('The current color is', color)\n",
        "\n",
        "S1 = alt.Chart(insta).mark_circle(color=color).encode(\n",
        "x = 'Main topic',\n",
        "y = 'Engagement Rate' ,\n",
        "    size='Main topic',\n",
        "tooltip=['Likes','Engagement Rate']).interactive()\n",
        "\n",
        "st.altair_chart(S1)\n",
        "\n",
        "st.markdown(\"------------------------------------------------------------\")\n",
        "\n",
        "@st.cache\n",
        "def convert_df(df):\n",
        "    # IMPORTANT: Cache the conversion to prevent computation on every rerun\n",
        "    return df.to_csv().encode('utf-8')\n",
        "\n",
        "csv = convert_df(insta)\n",
        "\n",
        "st.download_button(\n",
        "    label=\"Download tha dataset as CSV\",\n",
        "    data=csv,\n",
        "    file_name='instagram.csv',\n",
        "    mime='text/csv',\n",
        ")\n"
      ]
    },
    {
      "cell_type": "code",
      "execution_count": 10,
      "metadata": {
        "colab": {
          "base_uri": "https://localhost:8080/"
        },
        "id": "87JUxAbu61iM",
        "outputId": "e3390fdd-0dae-4fa7-99bf-b0c6f67987bc"
      },
      "outputs": [
        {
          "output_type": "stream",
          "name": "stdout",
          "text": [
            "Writing pages/page3.py\n"
          ]
        }
      ],
      "source": [
        "%%writefile pages/page3.py\n",
        "import matplotlib.pyplot as plt\n",
        "import numpy as np\n",
        "from mpl_toolkits.mplot3d import axes3d\n",
        "import pandas as pd\n",
        "import streamlit as st\n",
        "\n",
        "st.sidebar.markdown(\"# Page3\")\n",
        "\n",
        "insta = pd.read_csv('uppdatedInstagram.csv')\n",
        "fig = plt.figure()\n",
        "ax = fig.add_subplot(111, projection = '3d')\n",
        "\n",
        "b = insta['Likes Avg.']\n",
        "\n",
        "ax.scatter(insta['Followers'], insta['Likes Avg.'], insta['Engagement Rate'] , c='b', marker='o', label='blue')\n",
        "ax.set_xlabel('Followers')\n",
        "ax.set_ylabel('Likes Avg.')\n",
        "ax.set_zlabel('Engagement Rate')\n",
        "plt.title(\"3D Scatter Plot Example\")\n",
        "plt.legend()\n",
        "plt.tight_layout()\n",
        "plt.show()\n",
        "st.pyplot(fig)\n"
      ]
    },
    {
      "cell_type": "code",
      "execution_count": 11,
      "metadata": {
        "colab": {
          "base_uri": "https://localhost:8080/"
        },
        "id": "eYxmH6AY7tQ8",
        "outputId": "43c61e00-ac63-450f-bb3d-a68f7e00de02"
      },
      "outputs": [
        {
          "output_type": "stream",
          "name": "stdout",
          "text": [
            "Writing pages/page4.py\n"
          ]
        }
      ],
      "source": [
        "%%writefile pages/page4.py\n",
        "import streamlit as st\n",
        "import matplotlib.pyplot as plt\n",
        "import numpy as np\n",
        "import pandas as pd\n",
        "\n",
        "st.sidebar.markdown(\"# Page4\")\n",
        "insta = pd.read_csv('uppdatedInstagram.csv')\n",
        "\n",
        "sp = insta[insta['Main topic']== ('Sports')]\n",
        "ordered_df = sp.sort_values(by='Likes Avg.')\n",
        "my_range=range(1,len(sp.index)+1)\n",
        "\n",
        "# Create a color if the group is \"B\"\n",
        "my_color=np.where(ordered_df ['Country']=='US', 'pink','blue')\n",
        "my_size=np.where(ordered_df ['Country']=='US', 70, 30)\n",
        "# The horizontal plot is made using the hline() function\n",
        "plt.hlines(y=my_range, xmin=0, xmax=ordered_df['Likes Avg.'], color=my_color, alpha=0.4)\n",
        "plt.scatter(ordered_df['Likes Avg.'], my_range, color=my_color, s=my_size, alpha=1)\n",
        "\n",
        "# Add title and axis names\n",
        "plt.yticks(my_range, ordered_df['Country'])\n",
        "plt.title(\"What about the  US Country ?\", loc='Center')\n",
        "plt.xlabel('Likes Avg')\n",
        "plt.ylabel('Country')\n",
        "\n",
        "# show the graph\n",
        "plt.show()\n",
        "st.set_option('deprecation.showPyplotGlobalUse', False)\n",
        "st.pyplot()\n"
      ]
    },
    {
      "cell_type": "code",
      "execution_count": 11,
      "metadata": {
        "id": "5FvIOqejAtVJ"
      },
      "outputs": [],
      "source": []
    }
  ],
  "metadata": {
    "colab": {
      "provenance": [],
      "include_colab_link": true
    },
    "kernelspec": {
      "display_name": "Python 3",
      "name": "python3"
    },
    "language_info": {
      "name": "python"
    }
  },
  "nbformat": 4,
  "nbformat_minor": 0
}